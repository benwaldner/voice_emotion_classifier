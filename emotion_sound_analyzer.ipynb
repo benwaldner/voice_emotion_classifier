{
 "cells": [
  {
   "cell_type": "markdown",
   "metadata": {},
   "source": [
    "# Import Libraries"
   ]
  },
  {
   "cell_type": "code",
   "execution_count": 224,
   "metadata": {},
   "outputs": [],
   "source": [
    "# Tools\n",
    "import os\n",
    "import pandas as pd\n",
    "import numpy as np\n",
    "from tqdm import trange\n",
    "from collections import defaultdict\n",
    "\n",
    "# Audio file processing\n",
    "import librosa\n",
    "import librosa.display\n",
    "\n",
    "# Visual\n",
    "import matplotlib.pyplot as plt\n",
    "import seaborn as sns\n",
    "%matplotlib inline\n",
    "\n",
    "# Modeling\n",
    "from sklearn.preprocessing import StandardScaler, PolynomialFeatures\n",
    "from sklearn import metrics\n",
    "from sklearn.model_selection import train_test_split, GridSearchCV,RandomizedSearchCV\n",
    "from sklearn.linear_model import LogisticRegression\n",
    "from sklearn.pipeline import Pipeline"
   ]
  },
  {
   "cell_type": "markdown",
   "metadata": {
    "heading_collapsed": true
   },
   "source": [
    "# Dataset Description"
   ]
  },
  {
   "cell_type": "markdown",
   "metadata": {
    "hidden": true
   },
   "source": [
    "The Ryerson Audio-Visual Database of Emotional Speech and Song (RAVDESS) - [Link](https://zenodo.org/record/1188976#.XTod4S2ZO3U)\n",
    "  * The RAVDESS contains 7356 files. Each file was rated 10 times on emotional validity, intensity, and genuineness. Ratings were provided by 247 individuals who were characteristic of untrained adult research participants from North America. A further set of 72 participants provided test-retest data. High levels of emotional validity, interrater reliability, and test-retest intrarater reliability were reported. \n",
    "  * Filename identifiers \n",
    "\n",
    "    * Modality (01 = full-AV, 02 = video-only, 03 = audio-only).\n",
    "    * Vocal channel (01 = speech, 02 = song).\n",
    "    * Emotion (01 = neutral, 02 = calm, 03 = happy, 04 = sad, 05 = angry, 06 = fearful, 07 = disgust, 08 = surprised).\n",
    "    * Emotional intensity (01 = normal, 02 = strong). NOTE: There is no strong intensity for the 'neutral' emotion.\n",
    "    * Statement (01 = \"Kids are talking by the door\", 02 = \"Dogs are sitting by the door\").\n",
    "    * Repetition (01 = 1st repetition, 02 = 2nd repetition).\n",
    "    * Actor (01 to 24. Odd numbered actors are male, even numbered actors are female)."
   ]
  },
  {
   "cell_type": "markdown",
   "metadata": {
    "hidden": true
   },
   "source": [
    "#### Citation\n",
    "\n",
    "\"[The Ryerson Audio-Visual Database of Emotional Speech and Song (RAVDESS)](https://zenodo.org/record/1188976)\" by Livingstone & Russo is licensed under [CC BY-NA-SC 4.0](https://creativecommons.org/licenses/by-nc-sa/4.0/)."
   ]
  },
  {
   "cell_type": "markdown",
   "metadata": {},
   "source": [
    "# Load Data"
   ]
  },
  {
   "cell_type": "code",
   "execution_count": 145,
   "metadata": {},
   "outputs": [],
   "source": [
    "# Load audio file names\n",
    "data_folder_list = os.listdir('data/')\n",
    "data_folder_list.remove('.DS_Store')\n",
    "data = []\n",
    "for folder in data_folder_list:\n",
    "    files = os.listdir('data/'+folder)\n",
    "    for file in files:\n",
    "        data.append('data/'+folder+'/'+file)\n",
    "\n",
    "# Create pandas dataframe for all files\n",
    "emotion_mapping = {1:'neutral',2:'calm',3:'happy',4:'sad',5:'angry',6:'fearful',7:'disgust',8:'surprised'}\n",
    "gender_mapping = {0:'female',1:'male'}\n",
    "df = pd.DataFrame({\n",
    "                   'filename':data,\n",
    "                   'emotion':[int(x.split('-')[2]) for x in data],\n",
    "                   'emotion_desc':[emotion_mapping[int(x.split('-')[2])] for x in data],\n",
    "                   'gender' :[gender_mapping[int(x.split('-')[0][-5:-3])%2] for x in data]\n",
    "                  \n",
    "                  })"
   ]
  },
  {
   "cell_type": "markdown",
   "metadata": {},
   "source": [
    "# Generate Features - Automatic Using librosa.feature"
   ]
  },
  {
   "cell_type": "code",
   "execution_count": 146,
   "metadata": {},
   "outputs": [],
   "source": [
    "# Specify how many features to create using librosa's automatic feature generation function\n",
    "num_features = 20\n",
    "\n",
    "# Function to \n",
    "def create_feature_df(sound_list,num_features):\n",
    "    # Create n number of empty lists to append features to\n",
    "    empty_lists = [[] for x in range(num_features)]\n",
    "    \n",
    "    # Generate features and append to empty lists in empty_lists\n",
    "    for i in trange(len(sound_list)):\n",
    "        sound_wave,sampling_rate = librosa.load(sound_list[i],sr=None)\n",
    "        features = np.mean(librosa.feature.mfcc(y=sound_wave, sr=sampling_rate, n_mfcc=num_features),axis=1)\n",
    "        for ix,feature in enumerate(features):\n",
    "            empty_lists[ix].append(feature)\n",
    "            \n",
    "    # Create dictionary using feature list and return pandas dataframe\n",
    "    df = defaultdict()\n",
    "    for ix,feature in enumerate(empty_lists):\n",
    "        df['feature_'+str(ix)]=feature    \n",
    "    return pd.DataFrame(df)"
   ]
  },
  {
   "cell_type": "markdown",
   "metadata": {},
   "source": [
    "# Create Pandas Dataframe with Data & Features"
   ]
  },
  {
   "cell_type": "code",
   "execution_count": 147,
   "metadata": {
    "scrolled": true
   },
   "outputs": [
    {
     "name": "stderr",
     "output_type": "stream",
     "text": [
      "100%|██████████| 1440/1440 [00:14<00:00, 97.47it/s] \n"
     ]
    },
    {
     "data": {
      "text/html": [
       "<div>\n",
       "<style scoped>\n",
       "    .dataframe tbody tr th:only-of-type {\n",
       "        vertical-align: middle;\n",
       "    }\n",
       "\n",
       "    .dataframe tbody tr th {\n",
       "        vertical-align: top;\n",
       "    }\n",
       "\n",
       "    .dataframe thead th {\n",
       "        text-align: right;\n",
       "    }\n",
       "</style>\n",
       "<table border=\"1\" class=\"dataframe\">\n",
       "  <thead>\n",
       "    <tr style=\"text-align: right;\">\n",
       "      <th></th>\n",
       "      <th>filename</th>\n",
       "      <th>emotion</th>\n",
       "      <th>emotion_desc</th>\n",
       "      <th>gender</th>\n",
       "      <th>feature_0</th>\n",
       "      <th>feature_1</th>\n",
       "      <th>feature_2</th>\n",
       "      <th>feature_3</th>\n",
       "      <th>feature_4</th>\n",
       "      <th>feature_5</th>\n",
       "      <th>...</th>\n",
       "      <th>feature_10</th>\n",
       "      <th>feature_11</th>\n",
       "      <th>feature_12</th>\n",
       "      <th>feature_13</th>\n",
       "      <th>feature_14</th>\n",
       "      <th>feature_15</th>\n",
       "      <th>feature_16</th>\n",
       "      <th>feature_17</th>\n",
       "      <th>feature_18</th>\n",
       "      <th>feature_19</th>\n",
       "    </tr>\n",
       "  </thead>\n",
       "  <tbody>\n",
       "    <tr>\n",
       "      <th>0</th>\n",
       "      <td>data/Actor_16/03-01-05-01-02-01-16.wav</td>\n",
       "      <td>5</td>\n",
       "      <td>angry</td>\n",
       "      <td>female</td>\n",
       "      <td>-563.286011</td>\n",
       "      <td>49.649120</td>\n",
       "      <td>-6.105471</td>\n",
       "      <td>10.458487</td>\n",
       "      <td>-5.491511</td>\n",
       "      <td>-0.331318</td>\n",
       "      <td>...</td>\n",
       "      <td>-8.875373</td>\n",
       "      <td>-1.283287</td>\n",
       "      <td>-4.365212</td>\n",
       "      <td>-6.510464</td>\n",
       "      <td>-3.988040</td>\n",
       "      <td>-2.032984</td>\n",
       "      <td>-6.362742</td>\n",
       "      <td>-3.342318</td>\n",
       "      <td>-6.871845</td>\n",
       "      <td>-2.800561</td>\n",
       "    </tr>\n",
       "    <tr>\n",
       "      <th>1</th>\n",
       "      <td>data/Actor_16/03-01-06-01-02-02-16.wav</td>\n",
       "      <td>6</td>\n",
       "      <td>fearful</td>\n",
       "      <td>female</td>\n",
       "      <td>-582.414917</td>\n",
       "      <td>53.827759</td>\n",
       "      <td>-6.217736</td>\n",
       "      <td>7.703194</td>\n",
       "      <td>-1.535679</td>\n",
       "      <td>4.751629</td>\n",
       "      <td>...</td>\n",
       "      <td>-5.080708</td>\n",
       "      <td>0.433190</td>\n",
       "      <td>-7.476514</td>\n",
       "      <td>-10.972321</td>\n",
       "      <td>-2.672167</td>\n",
       "      <td>0.774803</td>\n",
       "      <td>-7.003618</td>\n",
       "      <td>-5.016933</td>\n",
       "      <td>-4.147608</td>\n",
       "      <td>-4.915511</td>\n",
       "    </tr>\n",
       "    <tr>\n",
       "      <th>2</th>\n",
       "      <td>data/Actor_16/03-01-06-02-01-02-16.wav</td>\n",
       "      <td>6</td>\n",
       "      <td>fearful</td>\n",
       "      <td>female</td>\n",
       "      <td>-418.499603</td>\n",
       "      <td>39.591286</td>\n",
       "      <td>-25.592112</td>\n",
       "      <td>-2.834799</td>\n",
       "      <td>-5.696198</td>\n",
       "      <td>-2.106591</td>\n",
       "      <td>...</td>\n",
       "      <td>-6.937022</td>\n",
       "      <td>-1.207587</td>\n",
       "      <td>-9.490370</td>\n",
       "      <td>-9.219843</td>\n",
       "      <td>2.695737</td>\n",
       "      <td>6.765974</td>\n",
       "      <td>-1.575575</td>\n",
       "      <td>3.834680</td>\n",
       "      <td>3.455092</td>\n",
       "      <td>4.022371</td>\n",
       "    </tr>\n",
       "    <tr>\n",
       "      <th>3</th>\n",
       "      <td>data/Actor_16/03-01-05-02-01-01-16.wav</td>\n",
       "      <td>5</td>\n",
       "      <td>angry</td>\n",
       "      <td>female</td>\n",
       "      <td>-470.210785</td>\n",
       "      <td>48.589828</td>\n",
       "      <td>-8.505497</td>\n",
       "      <td>5.728777</td>\n",
       "      <td>-3.026479</td>\n",
       "      <td>-2.571869</td>\n",
       "      <td>...</td>\n",
       "      <td>-6.192230</td>\n",
       "      <td>0.930403</td>\n",
       "      <td>-5.094486</td>\n",
       "      <td>-6.937154</td>\n",
       "      <td>-0.824439</td>\n",
       "      <td>-1.559173</td>\n",
       "      <td>-6.467396</td>\n",
       "      <td>-2.238223</td>\n",
       "      <td>-6.228177</td>\n",
       "      <td>-4.778912</td>\n",
       "    </tr>\n",
       "    <tr>\n",
       "      <th>4</th>\n",
       "      <td>data/Actor_16/03-01-07-01-01-01-16.wav</td>\n",
       "      <td>7</td>\n",
       "      <td>disgust</td>\n",
       "      <td>female</td>\n",
       "      <td>-650.489502</td>\n",
       "      <td>64.394165</td>\n",
       "      <td>0.832174</td>\n",
       "      <td>11.525830</td>\n",
       "      <td>-0.357533</td>\n",
       "      <td>3.591986</td>\n",
       "      <td>...</td>\n",
       "      <td>-5.826626</td>\n",
       "      <td>1.093956</td>\n",
       "      <td>-3.341086</td>\n",
       "      <td>-6.628979</td>\n",
       "      <td>-2.083872</td>\n",
       "      <td>1.503164</td>\n",
       "      <td>-4.994762</td>\n",
       "      <td>-3.326844</td>\n",
       "      <td>-3.126722</td>\n",
       "      <td>-2.403007</td>\n",
       "    </tr>\n",
       "  </tbody>\n",
       "</table>\n",
       "<p>5 rows × 24 columns</p>\n",
       "</div>"
      ],
      "text/plain": [
       "                                 filename  emotion emotion_desc  gender  \\\n",
       "0  data/Actor_16/03-01-05-01-02-01-16.wav        5        angry  female   \n",
       "1  data/Actor_16/03-01-06-01-02-02-16.wav        6      fearful  female   \n",
       "2  data/Actor_16/03-01-06-02-01-02-16.wav        6      fearful  female   \n",
       "3  data/Actor_16/03-01-05-02-01-01-16.wav        5        angry  female   \n",
       "4  data/Actor_16/03-01-07-01-01-01-16.wav        7      disgust  female   \n",
       "\n",
       "    feature_0  feature_1  feature_2  feature_3  feature_4  feature_5  ...  \\\n",
       "0 -563.286011  49.649120  -6.105471  10.458487  -5.491511  -0.331318  ...   \n",
       "1 -582.414917  53.827759  -6.217736   7.703194  -1.535679   4.751629  ...   \n",
       "2 -418.499603  39.591286 -25.592112  -2.834799  -5.696198  -2.106591  ...   \n",
       "3 -470.210785  48.589828  -8.505497   5.728777  -3.026479  -2.571869  ...   \n",
       "4 -650.489502  64.394165   0.832174  11.525830  -0.357533   3.591986  ...   \n",
       "\n",
       "   feature_10  feature_11  feature_12  feature_13  feature_14  feature_15  \\\n",
       "0   -8.875373   -1.283287   -4.365212   -6.510464   -3.988040   -2.032984   \n",
       "1   -5.080708    0.433190   -7.476514  -10.972321   -2.672167    0.774803   \n",
       "2   -6.937022   -1.207587   -9.490370   -9.219843    2.695737    6.765974   \n",
       "3   -6.192230    0.930403   -5.094486   -6.937154   -0.824439   -1.559173   \n",
       "4   -5.826626    1.093956   -3.341086   -6.628979   -2.083872    1.503164   \n",
       "\n",
       "   feature_16  feature_17  feature_18  feature_19  \n",
       "0   -6.362742   -3.342318   -6.871845   -2.800561  \n",
       "1   -7.003618   -5.016933   -4.147608   -4.915511  \n",
       "2   -1.575575    3.834680    3.455092    4.022371  \n",
       "3   -6.467396   -2.238223   -6.228177   -4.778912  \n",
       "4   -4.994762   -3.326844   -3.126722   -2.403007  \n",
       "\n",
       "[5 rows x 24 columns]"
      ]
     },
     "execution_count": 147,
     "metadata": {},
     "output_type": "execute_result"
    }
   ],
   "source": [
    "# Merge df with df_feature\n",
    "df_features=create_feature_df(df['filename'],num_features)\n",
    "df_merged = pd.concat([df, df_features], axis=1)\n",
    "df_merged.head()"
   ]
  },
  {
   "cell_type": "markdown",
   "metadata": {
    "heading_collapsed": true
   },
   "source": [
    "# EDA"
   ]
  },
  {
   "cell_type": "markdown",
   "metadata": {
    "hidden": true
   },
   "source": [
    "#### Target Distribution"
   ]
  },
  {
   "cell_type": "code",
   "execution_count": 178,
   "metadata": {
    "hidden": true
   },
   "outputs": [
    {
     "data": {
      "text/plain": [
       "8    192\n",
       "7    192\n",
       "6    192\n",
       "5    192\n",
       "4    192\n",
       "3    192\n",
       "2    192\n",
       "1     96\n",
       "Name: emotion, dtype: int64"
      ]
     },
     "execution_count": 178,
     "metadata": {},
     "output_type": "execute_result"
    }
   ],
   "source": [
    "df_merged['emotion'].value_counts()"
   ]
  },
  {
   "cell_type": "code",
   "execution_count": 184,
   "metadata": {
    "hidden": true
   },
   "outputs": [
    {
     "name": "stdout",
     "output_type": "stream",
     "text": [
      "It's pretty evenly distributed between 8 emotions\n"
     ]
    },
    {
     "data": {
      "image/png": "[encoded data removed]",
      "text/plain": [
       "<Figure size 432x288 with 1 Axes>"
      ]
     },
     "metadata": {},
     "output_type": "display_data"
    }
   ],
   "source": [
    "sns.set()\n",
    "sns.distplot(df_merged['emotion'],bins=8)\n",
    "print(\"It's pretty evenly distributed between 8 emotions\")"
   ]
  },
  {
   "cell_type": "markdown",
   "metadata": {
    "hidden": true
   },
   "source": [
    "#### Visualize a signal"
   ]
  },
  {
   "cell_type": "code",
   "execution_count": 185,
   "metadata": {
    "hidden": true
   },
   "outputs": [
    {
     "data": {
      "text/plain": [
       "<matplotlib.collections.PolyCollection at 0x1c279a5a90>"
      ]
     },
     "execution_count": 185,
     "metadata": {},
     "output_type": "execute_result"
    },
    {
     "data": {
      "image/png": "[encoded data removed]",
      "text/plain": [
       "<Figure size 1080x360 with 1 Axes>"
      ]
     },
     "metadata": {},
     "output_type": "display_data"
    }
   ],
   "source": [
    "plt.figure(figsize=(15, 5))                    \n",
    "sound_wave,sampling_rate = librosa.load(df['filename'][0],sr=None)\n",
    "librosa.display.waveplot(sound_wave,sr=sampling_rate)"
   ]
  },
  {
   "cell_type": "markdown",
   "metadata": {},
   "source": [
    "# Modeling"
   ]
  },
  {
   "cell_type": "markdown",
   "metadata": {},
   "source": [
    "#### Train, Validation, Test Split"
   ]
  },
  {
   "cell_type": "code",
   "execution_count": 154,
   "metadata": {},
   "outputs": [],
   "source": [
    "# Train, Val, Test Split\n",
    "feature_columns = list(df_merged.columns)[4:]\n",
    "X_train, X_test, y_train, y_test = train_test_split(df_merged[feature_columns], df_merged['emotion'], test_size=0.2, random_state=209)\n",
    "X_train, X_val, y_train, y_val = train_test_split(X_train, y_train, test_size=0.25, random_state=209)"
   ]
  },
  {
   "cell_type": "markdown",
   "metadata": {},
   "source": [
    "### Baseline Model"
   ]
  },
  {
   "cell_type": "markdown",
   "metadata": {},
   "source": [
    "#### Standardization of features"
   ]
  },
  {
   "cell_type": "code",
   "execution_count": 158,
   "metadata": {},
   "outputs": [],
   "source": [
    "std = StandardScaler()\n",
    "std.fit(X_train)\n",
    "X_tr = std.transform(X_train)\n",
    "X_va = std.transform(X_val)\n",
    "X_te = std.transform(X_test)"
   ]
  },
  {
   "cell_type": "markdown",
   "metadata": {},
   "source": [
    "#### Train Logistic Regression model"
   ]
  },
  {
   "cell_type": "code",
   "execution_count": 250,
   "metadata": {},
   "outputs": [],
   "source": [
    "clf = LogisticRegression(random_state=209, solver='lbfgs',\n",
    "                          multi_class='multinomial').fit(X_tr, y_train)"
   ]
  },
  {
   "cell_type": "markdown",
   "metadata": {
    "heading_collapsed": true
   },
   "source": [
    "#### View Scores"
   ]
  },
  {
   "cell_type": "code",
   "execution_count": 218,
   "metadata": {
    "hidden": true,
    "scrolled": true
   },
   "outputs": [],
   "source": [
    "def various_scores(model,X,y,data_type):\n",
    "    pred = model.predict(X)\n",
    "    print(data_type,\" Data\")\n",
    "    print('######################################################')\n",
    "    print(\"Accuracy : {:.2f} %\".format(metrics.accuracy_score(y, pred)*100))\n",
    "    print('______________________________________________________')\n",
    "    print(metrics.classification_report(pred,y,digits=2,target_names=list(emotion_mapping.values())))\n",
    "    print('______________________________________________________')\n",
    "    \n",
    "    "
   ]
  },
  {
   "cell_type": "code",
   "execution_count": 219,
   "metadata": {
    "hidden": true
   },
   "outputs": [
    {
     "name": "stdout",
     "output_type": "stream",
     "text": [
      "Train  Data\n",
      "######################################################\n",
      "Accuracy : 48.61 %\n",
      "______________________________________________________\n",
      "              precision    recall  f1-score   support\n",
      "\n",
      "     neutral       0.20      0.39      0.26        31\n",
      "        calm       0.61      0.47      0.53       150\n",
      "       happy       0.42      0.49      0.45        88\n",
      "         sad       0.41      0.37      0.39       137\n",
      "       angry       0.73      0.67      0.70       123\n",
      "     fearful       0.50      0.50      0.50       129\n",
      "     disgust       0.49      0.51      0.50       104\n",
      "   surprised       0.39      0.44      0.41       102\n",
      "\n",
      "    accuracy                           0.49       864\n",
      "   macro avg       0.47      0.48      0.47       864\n",
      "weighted avg       0.51      0.49      0.49       864\n",
      "\n"
     ]
    }
   ],
   "source": [
    "various_scores(clf,X_tr,y_train,'Train')"
   ]
  },
  {
   "cell_type": "code",
   "execution_count": 220,
   "metadata": {
    "hidden": true
   },
   "outputs": [
    {
     "name": "stdout",
     "output_type": "stream",
     "text": [
      "Validation  Data\n",
      "######################################################\n",
      "Accuracy : 46.18 %\n",
      "______________________________________________________\n",
      "              precision    recall  f1-score   support\n",
      "\n",
      "     neutral       0.27      0.33      0.30        12\n",
      "        calm       0.68      0.57      0.62        53\n",
      "       happy       0.30      0.41      0.35        32\n",
      "         sad       0.51      0.43      0.47        44\n",
      "       angry       0.75      0.56      0.64        54\n",
      "     fearful       0.21      0.22      0.22        27\n",
      "     disgust       0.35      0.47      0.40        32\n",
      "   surprised       0.42      0.47      0.44        34\n",
      "\n",
      "    accuracy                           0.46       288\n",
      "   macro avg       0.44      0.43      0.43       288\n",
      "weighted avg       0.50      0.46      0.47       288\n",
      "\n"
     ]
    }
   ],
   "source": [
    "various_scores(clf,X_va,y_val,'Validation')"
   ]
  },
  {
   "cell_type": "code",
   "execution_count": 222,
   "metadata": {
    "hidden": true
   },
   "outputs": [
    {
     "name": "stdout",
     "output_type": "stream",
     "text": [
      "Val  Data\n",
      "######################################################\n",
      "Accuracy : 46.18 %\n",
      "______________________________________________________\n",
      "              precision    recall  f1-score   support\n",
      "\n",
      "     neutral       0.27      0.33      0.30        12\n",
      "        calm       0.68      0.57      0.62        53\n",
      "       happy       0.30      0.41      0.35        32\n",
      "         sad       0.51      0.43      0.47        44\n",
      "       angry       0.75      0.56      0.64        54\n",
      "     fearful       0.21      0.22      0.22        27\n",
      "     disgust       0.35      0.47      0.40        32\n",
      "   surprised       0.42      0.47      0.44        34\n",
      "\n",
      "    accuracy                           0.46       288\n",
      "   macro avg       0.44      0.43      0.43       288\n",
      "weighted avg       0.50      0.46      0.47       288\n",
      "\n"
     ]
    }
   ],
   "source": [
    "various_scores(clf,X_va,y_val,'Val')"
   ]
  },
  {
   "cell_type": "code",
   "execution_count": 221,
   "metadata": {
    "hidden": true
   },
   "outputs": [
    {
     "name": "stdout",
     "output_type": "stream",
     "text": [
      "Test  Data\n",
      "######################################################\n",
      "Accuracy : 46.18 %\n",
      "______________________________________________________\n",
      "              precision    recall  f1-score   support\n",
      "\n",
      "     neutral       0.19      0.36      0.25        11\n",
      "        calm       0.52      0.44      0.47        39\n",
      "       happy       0.43      0.56      0.48        36\n",
      "         sad       0.42      0.28      0.34        46\n",
      "       angry       0.78      0.62      0.69        50\n",
      "     fearful       0.46      0.37      0.41        46\n",
      "     disgust       0.53      0.57      0.55        37\n",
      "   surprised       0.26      0.43      0.32        23\n",
      "\n",
      "    accuracy                           0.46       288\n",
      "   macro avg       0.45      0.45      0.44       288\n",
      "weighted avg       0.49      0.46      0.47       288\n",
      "\n"
     ]
    }
   ],
   "source": [
    "various_scores(clf,X_te,y_test,'Test')"
   ]
  },
  {
   "cell_type": "markdown",
   "metadata": {},
   "source": [
    "### RandomizedSearchCV"
   ]
  },
  {
   "cell_type": "markdown",
   "metadata": {},
   "source": [
    "#### Train & Test Split for RandomizedSearchCV"
   ]
  },
  {
   "cell_type": "code",
   "execution_count": 229,
   "metadata": {},
   "outputs": [],
   "source": [
    "# Train, Val, Test Split\n",
    "feature_columns = list(df_merged.columns)[4:]\n",
    "X_train, X_test, y_train, y_test = train_test_split(df_merged[feature_columns], df_merged['emotion'], test_size=0.2, random_state=209)"
   ]
  },
  {
   "cell_type": "code",
   "execution_count": 230,
   "metadata": {},
   "outputs": [
    {
     "name": "stdout",
     "output_type": "stream",
     "text": [
      "Logistic Regression Model Params :\n",
      "\n",
      " dict_keys(['memory', 'steps', 'verbose', 'polynomial', 'standard', 'model', 'polynomial__degree', 'polynomial__include_bias', 'polynomial__interaction_only', 'polynomial__order', 'standard__copy', 'standard__with_mean', 'standard__with_std', 'model__C', 'model__class_weight', 'model__dual', 'model__fit_intercept', 'model__intercept_scaling', 'model__l1_ratio', 'model__max_iter', 'model__multi_class', 'model__n_jobs', 'model__penalty', 'model__random_state', 'model__solver', 'model__tol', 'model__verbose', 'model__warm_start']) \n",
      "\n"
     ]
    }
   ],
   "source": [
    "# Define cross-validation pipelines logistic regression model\n",
    "lr_pipeline = Pipeline([\n",
    "                        ('polynomial',PolynomialFeatures()),\n",
    "                        ('standard',StandardScaler()),                        \n",
    "                        ('model',LogisticRegression())\n",
    "                        ])\n",
    "\n",
    "# # print parameters for lasso & ridge cross-validation pipelines\n",
    "print('Logistic Regression Model Params :\\n\\n',lr_pipeline.get_params().keys(),'\\n')"
   ]
  },
  {
   "cell_type": "code",
   "execution_count": 301,
   "metadata": {
    "scrolled": true
   },
   "outputs": [
    {
     "name": "stderr",
     "output_type": "stream",
     "text": [
      "/Users/matthewlee/anaconda3/envs/metis/lib/python3.7/site-packages/sklearn/linear_model/sag.py:337: ConvergenceWarning: The max_iter was reached which means the coef_ did not converge\n",
      "  \"the coef_ did not converge\", ConvergenceWarning)\n",
      "/Users/matthewlee/anaconda3/envs/metis/lib/python3.7/site-packages/sklearn/linear_model/sag.py:337: ConvergenceWarning: The max_iter was reached which means the coef_ did not converge\n",
      "  \"the coef_ did not converge\", ConvergenceWarning)\n",
      "/Users/matthewlee/anaconda3/envs/metis/lib/python3.7/site-packages/sklearn/linear_model/sag.py:337: ConvergenceWarning: The max_iter was reached which means the coef_ did not converge\n",
      "  \"the coef_ did not converge\", ConvergenceWarning)\n",
      "/Users/matthewlee/anaconda3/envs/metis/lib/python3.7/site-packages/sklearn/linear_model/sag.py:337: ConvergenceWarning: The max_iter was reached which means the coef_ did not converge\n",
      "  \"the coef_ did not converge\", ConvergenceWarning)\n",
      "/Users/matthewlee/anaconda3/envs/metis/lib/python3.7/site-packages/sklearn/linear_model/sag.py:337: ConvergenceWarning: The max_iter was reached which means the coef_ did not converge\n",
      "  \"the coef_ did not converge\", ConvergenceWarning)\n",
      "/Users/matthewlee/anaconda3/envs/metis/lib/python3.7/site-packages/sklearn/linear_model/sag.py:337: ConvergenceWarning: The max_iter was reached which means the coef_ did not converge\n",
      "  \"the coef_ did not converge\", ConvergenceWarning)\n",
      "/Users/matthewlee/anaconda3/envs/metis/lib/python3.7/site-packages/sklearn/linear_model/sag.py:337: ConvergenceWarning: The max_iter was reached which means the coef_ did not converge\n",
      "  \"the coef_ did not converge\", ConvergenceWarning)\n",
      "/Users/matthewlee/anaconda3/envs/metis/lib/python3.7/site-packages/sklearn/linear_model/sag.py:337: ConvergenceWarning: The max_iter was reached which means the coef_ did not converge\n",
      "  \"the coef_ did not converge\", ConvergenceWarning)\n",
      "/Users/matthewlee/anaconda3/envs/metis/lib/python3.7/site-packages/sklearn/linear_model/sag.py:337: ConvergenceWarning: The max_iter was reached which means the coef_ did not converge\n",
      "  \"the coef_ did not converge\", ConvergenceWarning)\n",
      "/Users/matthewlee/anaconda3/envs/metis/lib/python3.7/site-packages/sklearn/linear_model/sag.py:337: ConvergenceWarning: The max_iter was reached which means the coef_ did not converge\n",
      "  \"the coef_ did not converge\", ConvergenceWarning)\n",
      "/Users/matthewlee/anaconda3/envs/metis/lib/python3.7/site-packages/sklearn/linear_model/sag.py:337: ConvergenceWarning: The max_iter was reached which means the coef_ did not converge\n",
      "  \"the coef_ did not converge\", ConvergenceWarning)\n",
      "/Users/matthewlee/anaconda3/envs/metis/lib/python3.7/site-packages/sklearn/linear_model/sag.py:337: ConvergenceWarning: The max_iter was reached which means the coef_ did not converge\n",
      "  \"the coef_ did not converge\", ConvergenceWarning)\n",
      "/Users/matthewlee/anaconda3/envs/metis/lib/python3.7/site-packages/sklearn/linear_model/sag.py:337: ConvergenceWarning: The max_iter was reached which means the coef_ did not converge\n",
      "  \"the coef_ did not converge\", ConvergenceWarning)\n",
      "/Users/matthewlee/anaconda3/envs/metis/lib/python3.7/site-packages/sklearn/linear_model/sag.py:337: ConvergenceWarning: The max_iter was reached which means the coef_ did not converge\n",
      "  \"the coef_ did not converge\", ConvergenceWarning)\n",
      "/Users/matthewlee/anaconda3/envs/metis/lib/python3.7/site-packages/sklearn/linear_model/sag.py:337: ConvergenceWarning: The max_iter was reached which means the coef_ did not converge\n",
      "  \"the coef_ did not converge\", ConvergenceWarning)\n",
      "/Users/matthewlee/anaconda3/envs/metis/lib/python3.7/site-packages/sklearn/linear_model/sag.py:337: ConvergenceWarning: The max_iter was reached which means the coef_ did not converge\n",
      "  \"the coef_ did not converge\", ConvergenceWarning)\n",
      "/Users/matthewlee/anaconda3/envs/metis/lib/python3.7/site-packages/sklearn/linear_model/sag.py:337: ConvergenceWarning: The max_iter was reached which means the coef_ did not converge\n",
      "  \"the coef_ did not converge\", ConvergenceWarning)\n",
      "/Users/matthewlee/anaconda3/envs/metis/lib/python3.7/site-packages/sklearn/linear_model/sag.py:337: ConvergenceWarning: The max_iter was reached which means the coef_ did not converge\n",
      "  \"the coef_ did not converge\", ConvergenceWarning)\n",
      "/Users/matthewlee/anaconda3/envs/metis/lib/python3.7/site-packages/sklearn/linear_model/sag.py:337: ConvergenceWarning: The max_iter was reached which means the coef_ did not converge\n",
      "  \"the coef_ did not converge\", ConvergenceWarning)\n",
      "/Users/matthewlee/anaconda3/envs/metis/lib/python3.7/site-packages/sklearn/linear_model/sag.py:337: ConvergenceWarning: The max_iter was reached which means the coef_ did not converge\n",
      "  \"the coef_ did not converge\", ConvergenceWarning)\n",
      "/Users/matthewlee/anaconda3/envs/metis/lib/python3.7/site-packages/sklearn/linear_model/sag.py:337: ConvergenceWarning: The max_iter was reached which means the coef_ did not converge\n",
      "  \"the coef_ did not converge\", ConvergenceWarning)\n",
      "/Users/matthewlee/anaconda3/envs/metis/lib/python3.7/site-packages/sklearn/linear_model/sag.py:337: ConvergenceWarning: The max_iter was reached which means the coef_ did not converge\n",
      "  \"the coef_ did not converge\", ConvergenceWarning)\n",
      "/Users/matthewlee/anaconda3/envs/metis/lib/python3.7/site-packages/sklearn/linear_model/sag.py:337: ConvergenceWarning: The max_iter was reached which means the coef_ did not converge\n",
      "  \"the coef_ did not converge\", ConvergenceWarning)\n",
      "/Users/matthewlee/anaconda3/envs/metis/lib/python3.7/site-packages/sklearn/linear_model/sag.py:337: ConvergenceWarning: The max_iter was reached which means the coef_ did not converge\n",
      "  \"the coef_ did not converge\", ConvergenceWarning)\n",
      "/Users/matthewlee/anaconda3/envs/metis/lib/python3.7/site-packages/sklearn/linear_model/sag.py:337: ConvergenceWarning: The max_iter was reached which means the coef_ did not converge\n",
      "  \"the coef_ did not converge\", ConvergenceWarning)\n",
      "/Users/matthewlee/anaconda3/envs/metis/lib/python3.7/site-packages/sklearn/linear_model/sag.py:337: ConvergenceWarning: The max_iter was reached which means the coef_ did not converge\n",
      "  \"the coef_ did not converge\", ConvergenceWarning)\n",
      "/Users/matthewlee/anaconda3/envs/metis/lib/python3.7/site-packages/sklearn/linear_model/sag.py:337: ConvergenceWarning: The max_iter was reached which means the coef_ did not converge\n",
      "  \"the coef_ did not converge\", ConvergenceWarning)\n",
      "/Users/matthewlee/anaconda3/envs/metis/lib/python3.7/site-packages/sklearn/linear_model/sag.py:337: ConvergenceWarning: The max_iter was reached which means the coef_ did not converge\n",
      "  \"the coef_ did not converge\", ConvergenceWarning)\n",
      "/Users/matthewlee/anaconda3/envs/metis/lib/python3.7/site-packages/sklearn/linear_model/sag.py:337: ConvergenceWarning: The max_iter was reached which means the coef_ did not converge\n",
      "  \"the coef_ did not converge\", ConvergenceWarning)\n"
     ]
    }
   ],
   "source": [
    "#Define hyperparameters for GridSearchCV & RandomizedSearchCV\n",
    "C_vec = np.linspace(0,1000,100)\n",
    "scoring_list = ['accuracy', 'balanced_accuracy','f1_micro','f1_macro','f1_weighted']\n",
    "hyperparameters = {'polynomial__degree':[1],\n",
    "                   'model__solver':['newton-cg', 'sag', 'saga' , 'lbfgs'],\n",
    "                   'model__C':C_vec,\n",
    "                   'model__class_weight':['balanced',None],\n",
    "                   'model__random_state':[209],\n",
    "                   'model__multi_class':['multinomial']\n",
    "                   }\n",
    "lr_rand_grid = RandomizedSearchCV(lr_pipeline,\n",
    "                             param_distributions=hyperparameters,\n",
    "                             cv=5,\n",
    "                             random_state=209,\n",
    "                             scoring=scoring_list[2],\n",
    "                             n_iter=30,\n",
    "                             verbose=0)\n",
    "lr_rand_grid.fit(X_train,y_train);"
   ]
  },
  {
   "cell_type": "code",
   "execution_count": 302,
   "metadata": {},
   "outputs": [
    {
     "data": {
      "text/plain": [
       "{'polynomial__degree': 1,\n",
       " 'model__solver': 'lbfgs',\n",
       " 'model__random_state': 209,\n",
       " 'model__multi_class': 'multinomial',\n",
       " 'model__class_weight': None,\n",
       " 'model__C': 575.7575757575758}"
      ]
     },
     "execution_count": 302,
     "metadata": {},
     "output_type": "execute_result"
    }
   ],
   "source": [
    "lr_rand_grid.best_params_"
   ]
  },
  {
   "cell_type": "code",
   "execution_count": 303,
   "metadata": {},
   "outputs": [
    {
     "name": "stdout",
     "output_type": "stream",
     "text": [
      "Train  Data\n",
      "######################################################\n",
      "Accuracy : 49.39 %\n",
      "______________________________________________________\n",
      "              precision    recall  f1-score   support\n",
      "\n",
      "     neutral       0.25      0.38      0.30        50\n",
      "        calm       0.64      0.50      0.56       203\n",
      "       happy       0.43      0.47      0.45       133\n",
      "         sad       0.43      0.41      0.42       169\n",
      "       angry       0.72      0.65      0.68       168\n",
      "     fearful       0.46      0.47      0.47       153\n",
      "     disgust       0.47      0.53      0.50       136\n",
      "   surprised       0.42      0.46      0.44       140\n",
      "\n",
      "    accuracy                           0.49      1152\n",
      "   macro avg       0.48      0.48      0.48      1152\n",
      "weighted avg       0.51      0.49      0.50      1152\n",
      "\n"
     ]
    }
   ],
   "source": [
    "various_scores(lr_rand_grid,X_train,y_train,'Train')"
   ]
  },
  {
   "cell_type": "code",
   "execution_count": 304,
   "metadata": {},
   "outputs": [
    {
     "name": "stdout",
     "output_type": "stream",
     "text": [
      "Test  Data\n",
      "######################################################\n",
      "Accuracy : 50.00 %\n",
      "______________________________________________________\n",
      "              precision    recall  f1-score   support\n",
      "\n",
      "     neutral       0.19      0.44      0.27         9\n",
      "        calm       0.58      0.46      0.51        41\n",
      "       happy       0.49      0.57      0.53        40\n",
      "         sad       0.48      0.34      0.40        44\n",
      "       angry       0.75      0.67      0.71        45\n",
      "     fearful       0.54      0.42      0.47        48\n",
      "     disgust       0.53      0.62      0.57        34\n",
      "   surprised       0.31      0.44      0.36        27\n",
      "\n",
      "    accuracy                           0.50       288\n",
      "   macro avg       0.48      0.50      0.48       288\n",
      "weighted avg       0.53      0.50      0.51       288\n",
      "\n"
     ]
    }
   ],
   "source": [
    "various_scores(lr_rand_grid,X_test,y_test,'Test')"
   ]
  },
  {
   "cell_type": "code",
   "execution_count": null,
   "metadata": {},
   "outputs": [],
   "source": []
  },
  {
   "cell_type": "code",
   "execution_count": null,
   "metadata": {},
   "outputs": [],
   "source": []
  }
 ],
 "metadata": {
  "kernelspec": {
   "display_name": "Python 3",
   "language": "python",
   "name": "python3"
  },
  "language_info": {
   "codemirror_mode": {
    "name": "ipython",
    "version": 3
   },
   "file_extension": ".py",
   "mimetype": "text/x-python",
   "name": "python",
   "nbconvert_exporter": "python",
   "pygments_lexer": "ipython3",
   "version": "3.7.3"
  }
 },
 "nbformat": 4,
 "nbformat_minor": 2
}
