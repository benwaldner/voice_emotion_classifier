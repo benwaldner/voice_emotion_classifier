{
 "cells": [
  {
   "cell_type": "code",
   "execution_count": null,
   "metadata": {},
   "outputs": [],
   "source": [
    "#######################\n",
    "# standard code block #\n",
    "#######################\n",
    "\n",
    "# see https://ipython.readthedocs.io/en/stable/interactive/magics.html\n",
    "%pylab inline\n",
    "\n",
    "# sets backend to render higher res images\n",
    "%config InlineBackend.figure_formats = ['retina']\n",
    "\n",
    "# uses custom metis style sheet for notebooks\n",
    "from IPython.core.display import HTML\n",
    "HTML(\"\"\"<link rel=\"stylesheet\" href=\"https://soph.info/metis/nb.css\" type=\"text/css\"/>\"\"\")\n",
    "\n",
    "#######################\n",
    "#       imports       #\n",
    "#######################\n",
    "import pandas as pd\n",
    "import seaborn as sns\n",
    "# import sklearn\n",
    "\n",
    "# seaborn.set_style(\"whitegrid\")"
   ]
  },
  {
   "cell_type": "code",
   "execution_count": null,
   "metadata": {},
   "outputs": [],
   "source": [
    "from sklearn import datasets, model_selection\n",
    "\n",
    "# load in the iris dataset\n",
    "iris_data = datasets.load_iris()\n",
    "\n",
    "x = iris_data.data\n",
    "y = iris_data.target\n",
    "\n",
    "x_train, x_test, y_train, y_test = model_selection.train_test_split(x,y, stratify=y)"
   ]
  },
  {
   "cell_type": "code",
   "execution_count": null,
   "metadata": {},
   "outputs": [],
   "source": [
    "from sklearn import linear_model\n",
    "\n",
    "# fit our model and score it on the test set\n",
    "lr_model = linear_model.LogisticRegression(class_weight=\"balanced\", solver='lbfgs', multi_class='auto')\n",
    "lr_model.fit(x_train, y_train)\n",
    "\n",
    "print(f\"\"\"\n",
    "train score: {lr_model.score(x_train, y_train):%}\n",
    "test score: {lr_model.score(x_test, y_test):%}\n",
    "\"\"\")"
   ]
  },
  {
   "cell_type": "code",
   "execution_count": null,
   "metadata": {},
   "outputs": [],
   "source": [
    "iris_data.target_names"
   ]
  },
  {
   "cell_type": "code",
   "execution_count": null,
   "metadata": {},
   "outputs": [],
   "source": [
    "iris_data.feature_names"
   ]
  },
  {
   "cell_type": "code",
   "execution_count": null,
   "metadata": {},
   "outputs": [],
   "source": [
    "# let's store some of these handy bits of data within the model\n",
    "\n",
    "lr_model.feature_names = iris_data.feature_names\n",
    "lr_model.target_names = iris_data.target_names"
   ]
  },
  {
   "cell_type": "code",
   "execution_count": null,
   "metadata": {},
   "outputs": [],
   "source": [
    "def plot_ovr_coefs(model):\n",
    "    \"\"\"Helper to plot coefficients of a ovr model like Logistic Regression\"\"\"\n",
    "    n_models, n_coef = model.coef_.shape\n",
    "\n",
    "    lod = []\n",
    "    for i in range(n_models):\n",
    "        for j in range(n_coef):\n",
    "            lod.append({\n",
    "                \"OVR Model\": f\"{model.target_names[i]} vs rest\",\n",
    "                \"Coefficient Name\": f\"{model.feature_names[j]}\",\n",
    "                \"Coefficient Value\": model.coef_[i,j]\n",
    "            })\n",
    "    coef_df = pd.DataFrame(lod)\n",
    "\n",
    "\n",
    "    sns.barplot(y=\"Coefficient Name\", x=\"Coefficient Value\", hue=\"OVR Model\", orient=\"h\", data=coef_df)"
   ]
  },
  {
   "cell_type": "code",
   "execution_count": null,
   "metadata": {},
   "outputs": [],
   "source": [
    "# let's plot the coefficients to demonstrate that the model and what it has learned are preserved through pickling\n",
    "\n",
    "plot_ovr_coefs(lr_model)"
   ]
  },
  {
   "cell_type": "code",
   "execution_count": null,
   "metadata": {},
   "outputs": [],
   "source": [
    "import pickle\n",
    "\n",
    "with open(\"predictor/lr.pkl\", \"wb\") as f:\n",
    "    pickle.dump(lr_model, f)"
   ]
  },
  {
   "cell_type": "markdown",
   "metadata": {},
   "source": [
    "I'm going to test out our pickling ability by deleting the model, showing that the above figure doesn't work, and then loading the model from pickle and showing that it does"
   ],
   "outputs": [],
   "execution_count": null
  },
  {
   "cell_type": "code",
   "execution_count": null,
   "metadata": {},
   "outputs": [],
   "source": [
    "del lr_model\n",
    "\n",
    "plot_ovr_coefs(lr_model)"
   ]
  },
  {
   "cell_type": "code",
   "execution_count": null,
   "metadata": {},
   "outputs": [],
   "source": [
    "with open(\"predictor/lr.pkl\", \"rb\") as f:\n",
    "    lr_model2 = pickle.load(f)"
   ]
  },
  {
   "cell_type": "code",
   "execution_count": null,
   "metadata": {},
   "outputs": [],
   "source": [
    "plot_ovr_coefs(lr_model2)"
   ]
  },
  {
   "cell_type": "markdown",
   "metadata": {},
   "source": [
    "We can also predict on synthetic data"
   ],
   "outputs": [],
   "execution_count": null
  },
  {
   "cell_type": "code",
   "execution_count": null,
   "metadata": {},
   "outputs": [],
   "source": [
    "lr_model2.predict([[0,0,0,1]])"
   ]
  },
  {
   "cell_type": "code",
   "execution_count": null,
   "metadata": {},
   "outputs": [],
   "source": [
    "lr_model2.predict_proba([[0,0,0,1]])"
   ]
  },
  {
   "cell_type": "code",
   "execution_count": null,
   "metadata": {},
   "outputs": [],
   "source": [
    "pred_probs = lr_model2.predict_proba([[0,0,0,1]]).flat"
   ]
  },
  {
   "cell_type": "markdown",
   "metadata": {},
   "source": [
    "We can find the most likely classes"
   ],
   "outputs": [],
   "execution_count": null
  },
  {
   "cell_type": "code",
   "execution_count": null,
   "metadata": {},
   "outputs": [],
   "source": [
    "np.argsort(pred_probs)[::-1]"
   ]
  },
  {
   "cell_type": "markdown",
   "metadata": {},
   "source": [
    "Finally, we can pair the predicted probabilities with each candidate class"
   ],
   "outputs": [],
   "execution_count": null
  },
  {
   "cell_type": "code",
   "execution_count": null,
   "metadata": {},
   "outputs": [],
   "source": [
    "pred_str = \"\"\n",
    "for class_i in np.argsort(pred_probs)[::-1]:\n",
    "    pred_str += f\"\"\"\n",
    "    {lr_model2.target_names[class_i]}: {pred_probs[class_i]:g}\n",
    "    \"\"\"\n",
    "print(pred_str)"
   ]
  },
  {
   "cell_type": "code",
   "execution_count": null,
   "metadata": {},
   "outputs": [],
   "source": []
  },
  {
   "cell_type": "code",
   "execution_count": null,
   "metadata": {},
   "outputs": [],
   "source": []
  },
  {
   "cell_type": "code",
   "execution_count": null,
   "metadata": {},
   "outputs": [],
   "source": []
  },
  {
   "cell_type": "code",
   "execution_count": null,
   "metadata": {},
   "outputs": [],
   "source": []
  }
 ],
 "metadata": {
  "language_info": {
   "codemirror_mode": {
    "name": "ipython",
    "version": 3
   },
   "file_extension": ".py",
   "mimetype": "text/x-python",
   "name": "python",
   "nbconvert_exporter": "python",
   "pygments_lexer": "ipython3",
   "version": "3.6.7"
  }
 },
 "nbformat": 4,
 "nbformat_minor": 2
}
